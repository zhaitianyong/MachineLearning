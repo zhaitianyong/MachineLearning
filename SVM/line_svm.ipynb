{
 "cells": [
  {
   "cell_type": "markdown",
   "metadata": {},
   "source": [
    "## 线性可分的SVM 算法 二分类"
   ]
  },
  {
   "cell_type": "markdown",
   "metadata": {},
   "source": [
    "- 带有约束的最小化系数，并构建拉格朗日求极值的约束\n",
    "- 转换为对偶问题，将极小极大问题，转换为极大极小问题\n",
    "- 先对权重进行求导，然后带入对偶中，然后对拉格朗日算子求解\n",
    "- 最后根据约束求权重"
   ]
  },
  {
   "cell_type": "code",
   "execution_count": null,
   "metadata": {},
   "outputs": [],
   "source": []
  }
 ],
 "metadata": {
  "kernelspec": {
   "display_name": "Python [conda env:pytorch_yolov3] *",
   "language": "python",
   "name": "conda-env-pytorch_yolov3-py"
  },
  "language_info": {
   "codemirror_mode": {
    "name": "ipython",
    "version": 3
   },
   "file_extension": ".py",
   "mimetype": "text/x-python",
   "name": "python",
   "nbconvert_exporter": "python",
   "pygments_lexer": "ipython3",
   "version": "3.7.0"
  }
 },
 "nbformat": 4,
 "nbformat_minor": 2
}
