{
 "cells": [
  {
   "cell_type": "code",
   "execution_count": 42,
   "metadata": {},
   "outputs": [],
   "source": [
    "import numpy as np\n",
    "import matplotlib.pyplot as plt\n",
    "from sklearn import datasets"
   ]
  },
  {
   "cell_type": "code",
   "execution_count": 43,
   "metadata": {},
   "outputs": [],
   "source": [
    "boston = datasets.load_boston()"
   ]
  },
  {
   "cell_type": "code",
   "execution_count": 44,
   "metadata": {},
   "outputs": [
    {
     "data": {
      "text/plain": [
       "((506, 13), (506,))"
      ]
     },
     "execution_count": 44,
     "metadata": {},
     "output_type": "execute_result"
    }
   ],
   "source": [
    "boston.data.shape, boston.target.shape"
   ]
  },
  {
   "cell_type": "code",
   "execution_count": 45,
   "metadata": {},
   "outputs": [],
   "source": [
    "import sys\n",
    "sys.path.append(r\"../\")"
   ]
  },
  {
   "cell_type": "code",
   "execution_count": 46,
   "metadata": {},
   "outputs": [],
   "source": [
    "from myML.LinearRegression import LinearRegression"
   ]
  },
  {
   "cell_type": "code",
   "execution_count": 47,
   "metadata": {},
   "outputs": [],
   "source": [
    "X = boston.data\n",
    "y = boston.target\n",
    "\n",
    "X = X[y < 50]\n",
    "y = y[y < 50]"
   ]
  },
  {
   "cell_type": "code",
   "execution_count": 48,
   "metadata": {},
   "outputs": [],
   "source": [
    "from myML.preprocessing import train_test_split\n",
    "X_train, y_train, X_test, y_test = train_test_split(X, y, seed=666)"
   ]
  },
  {
   "cell_type": "code",
   "execution_count": 57,
   "metadata": {},
   "outputs": [],
   "source": [
    "reg = LinearRegression()\n",
    "reg.fit_normal(X_train, y_train)"
   ]
  },
  {
   "cell_type": "code",
   "execution_count": 60,
   "metadata": {},
   "outputs": [],
   "source": [
    "y_predict = reg.predict(X_test)"
   ]
  },
  {
   "cell_type": "code",
   "execution_count": 61,
   "metadata": {
    "scrolled": true
   },
   "outputs": [
    {
     "data": {
      "text/plain": [
       "array([-1.20354261e-01,  3.64423279e-02, -3.61493155e-02,  5.12978140e-02,\n",
       "       -1.15775825e+01,  3.42740062e+00, -2.32311760e-02, -1.19487594e+00,\n",
       "        2.60101728e-01, -1.40219119e-02, -8.35430488e-01,  7.80472852e-03,\n",
       "       -3.80923751e-01])"
      ]
     },
     "execution_count": 61,
     "metadata": {},
     "output_type": "execute_result"
    }
   ],
   "source": [
    "reg.coef_"
   ]
  },
  {
   "cell_type": "code",
   "execution_count": 62,
   "metadata": {},
   "outputs": [
    {
     "data": {
      "text/plain": [
       "34.117399723201785"
      ]
     },
     "execution_count": 62,
     "metadata": {},
     "output_type": "execute_result"
    }
   ],
   "source": [
    "reg.interception_"
   ]
  },
  {
   "cell_type": "code",
   "execution_count": 64,
   "metadata": {},
   "outputs": [
    {
     "data": {
      "text/plain": [
       "array([18.08015868, 25.52447165, 12.98271397, 32.89477638, 24.17839745,\n",
       "        2.66600125, 26.64297716, 32.23866352, 13.96590659, 24.0465123 ,\n",
       "       14.92963   , 10.57419644, 30.28539981, 16.28302365, 23.67843428,\n",
       "       25.63288299, 18.68105783, 24.01767076, 28.77234863, 26.9404495 ,\n",
       "       12.87158142, 27.23259283, 26.07726096, 23.41270932, 20.80570812,\n",
       "       31.96527196, 14.93177657, 20.94927605, 12.93149157, 29.8004438 ,\n",
       "       35.29188752,  4.99369317, 13.10904465, 35.54982047, 16.00603155,\n",
       "       21.53889058, 12.46701001, 29.12202629, 27.3433202 , 24.04852968,\n",
       "       14.39961539, 23.61075774, 10.89223868, 22.38043687, 18.62604579,\n",
       "       16.41773634, 24.43040765, 33.06929581, 19.19757395, 27.03634216,\n",
       "       18.05693565, 14.90744724, 25.08683225, 16.09610653, 21.7469388 ,\n",
       "       16.32259928, 24.25418684, 11.75290906, 27.91347808, 31.06610342,\n",
       "       20.17028271, 24.99229322, 25.99180978, 12.11816691, 16.57739596,\n",
       "       27.30354042, 22.26700274, 21.72088347, 31.5072238 , 14.09365929,\n",
       "       16.44848578, 24.77021704, 25.18029077, 18.6594919 , 17.38685904,\n",
       "       27.90685345, 23.71361804, 14.64035157, 11.221733  , 31.41732583,\n",
       "       33.66657215, 17.6664705 , 18.70612914, 17.80521513, 25.15854544,\n",
       "       23.66222167, 24.54963451, 26.08785332, 25.49668464, 20.29468282,\n",
       "       24.87604237, 33.48153061, 36.08260332, 23.07153729, 18.79940271,\n",
       "       31.04317235, 35.78693515, 20.85083183])"
      ]
     },
     "execution_count": 64,
     "metadata": {},
     "output_type": "execute_result"
    }
   ],
   "source": [
    "y_predict"
   ]
  },
  {
   "cell_type": "code",
   "execution_count": 65,
   "metadata": {},
   "outputs": [
    {
     "data": {
      "text/plain": [
       "array([18. , 24.8, 13.5, 34.9, 23.7, 13.8, 25.1, 28.5, 15.6, 33. , 16.2,\n",
       "       16.3, 29.4, 17.8, 22.2, 20.6, 13.8, 19.4, 22.5, 23.9, 12.7, 24.8,\n",
       "       23.9, 20.7, 23.2, 37.9, 13.5, 22.4, 12.3, 32.7, 43.1,  8.8, 12.8,\n",
       "       41.7, 19.1, 21.7, 10.5, 24. , 27. , 23.1, 11. , 18.9, 15.2, 19.7,\n",
       "       19.4, 14.3, 23.3, 31. , 19.8, 22.8, 19.6, 14.9, 24.7, 15.4, 19.6,\n",
       "       18.9, 23. , 10.8, 28.6, 35.4, 18.8, 23.4, 22.6,  8.3, 12.7, 26.6,\n",
       "       19.8, 18.9, 29. , 19. , 13. , 22.3, 22.8, 19.5, 14.1, 28.4, 20.1,\n",
       "       13.9, 12. , 33.1, 38.7, 17.5, 19.9, 20.2, 29.6, 21.2, 21.6, 23.9,\n",
       "       28.1, 20.4, 24.4, 35.4, 46. , 20.4, 16. , 31.5, 44. , 21. ])"
      ]
     },
     "execution_count": 65,
     "metadata": {},
     "output_type": "execute_result"
    }
   ],
   "source": [
    "y_test"
   ]
  },
  {
   "cell_type": "code",
   "execution_count": 67,
   "metadata": {},
   "outputs": [
    {
     "data": {
      "text/plain": [
       "0.8129794056212823"
      ]
     },
     "execution_count": 67,
     "metadata": {},
     "output_type": "execute_result"
    }
   ],
   "source": [
    "from myML.metrics import r2_score\n",
    "\n",
    "r2_score(y_test, y_predict)"
   ]
  },
  {
   "cell_type": "code",
   "execution_count": 69,
   "metadata": {},
   "outputs": [
    {
     "ename": "TypeError",
     "evalue": "predict() takes 2 positional arguments but 3 were given",
     "output_type": "error",
     "traceback": [
      "\u001b[0;31m---------------------------------------------------------------------------\u001b[0m",
      "\u001b[0;31mTypeError\u001b[0m                                 Traceback (most recent call last)",
      "\u001b[0;32m<ipython-input-69-aaacfc6de2d2>\u001b[0m in \u001b[0;36m<module>\u001b[0;34m\u001b[0m\n\u001b[0;32m----> 1\u001b[0;31m \u001b[0mreg\u001b[0m\u001b[0;34m.\u001b[0m\u001b[0mscore\u001b[0m\u001b[0;34m(\u001b[0m\u001b[0mX_test\u001b[0m\u001b[0;34m,\u001b[0m \u001b[0my_test\u001b[0m\u001b[0;34m)\u001b[0m\u001b[0;34m\u001b[0m\u001b[0m\n\u001b[0m",
      "\u001b[0;32m~/code/slam/MVGAlgorithm/MachineLearning/myML/LinearRegression.py\u001b[0m in \u001b[0;36mscore\u001b[0;34m(self, X_test, y_test)\u001b[0m\n\u001b[1;32m     17\u001b[0m \u001b[0;34m\u001b[0m\u001b[0m\n\u001b[1;32m     18\u001b[0m     \u001b[0;32mdef\u001b[0m \u001b[0mscore\u001b[0m\u001b[0;34m(\u001b[0m\u001b[0mself\u001b[0m\u001b[0;34m,\u001b[0m \u001b[0mX_test\u001b[0m\u001b[0;34m,\u001b[0m \u001b[0my_test\u001b[0m\u001b[0;34m)\u001b[0m\u001b[0;34m:\u001b[0m\u001b[0;34m\u001b[0m\u001b[0m\n\u001b[0;32m---> 19\u001b[0;31m         \u001b[0my_predict\u001b[0m \u001b[0;34m=\u001b[0m \u001b[0mself\u001b[0m\u001b[0;34m.\u001b[0m\u001b[0mpredict\u001b[0m\u001b[0;34m(\u001b[0m\u001b[0mX_test\u001b[0m\u001b[0;34m)\u001b[0m\u001b[0;34m\u001b[0m\u001b[0m\n\u001b[0m\u001b[1;32m     20\u001b[0m         \u001b[0;32mreturn\u001b[0m \u001b[0mr2_score\u001b[0m\u001b[0;34m(\u001b[0m\u001b[0my_test\u001b[0m\u001b[0;34m,\u001b[0m \u001b[0my_predict\u001b[0m\u001b[0;34m)\u001b[0m\u001b[0;34m\u001b[0m\u001b[0m\n\u001b[1;32m     21\u001b[0m \u001b[0;34m\u001b[0m\u001b[0m\n",
      "\u001b[0;31mTypeError\u001b[0m: predict() takes 2 positional arguments but 3 were given"
     ]
    }
   ],
   "source": [
    "reg.score(X_test, y_test)"
   ]
  }
 ],
 "metadata": {
  "kernelspec": {
   "display_name": "Python 3",
   "language": "python",
   "name": "python3"
  },
  "language_info": {
   "codemirror_mode": {
    "name": "ipython",
    "version": 3
   },
   "file_extension": ".py",
   "mimetype": "text/x-python",
   "name": "python",
   "nbconvert_exporter": "python",
   "pygments_lexer": "ipython3",
   "version": "3.7.0"
  }
 },
 "nbformat": 4,
 "nbformat_minor": 2
}
